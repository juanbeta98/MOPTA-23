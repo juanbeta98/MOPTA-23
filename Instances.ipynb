{
 "cells": [
  {
   "cell_type": "code",
   "execution_count": 1,
   "metadata": {},
   "outputs": [
    {
     "name": "stderr",
     "output_type": "stream",
     "text": [
      "C:\\Users\\ari_r\\AppData\\Local\\Temp\\ipykernel_26884\\1098857382.py:20: FutureWarning: The frame.append method is deprecated and will be removed from pandas in a future version. Use pandas.concat instead.\n",
      "  vehicles = vehicles.append([vehicles]*9,ignore_index=True)\n",
      "C:\\Users\\ari_r\\AppData\\Local\\Temp\\ipykernel_26884\\1098857382.py:30: SettingWithCopyWarning: \n",
      "A value is trying to be set on a copy of a slice from a DataFrame.\n",
      "Try using .loc[row_indexer,col_indexer] = value instead\n",
      "\n",
      "See the caveats in the documentation: https://pandas.pydata.org/pandas-docs/stable/user_guide/indexing.html#returning-a-view-versus-a-copy\n",
      "  stations_loc[\"Latitude\"] = (stations[\"Latitude\"]-southern[1])*69*165/178\n",
      "C:\\Users\\ari_r\\AppData\\Local\\Temp\\ipykernel_26884\\1098857382.py:31: SettingWithCopyWarning: \n",
      "A value is trying to be set on a copy of a slice from a DataFrame.\n",
      "Try using .loc[row_indexer,col_indexer] = value instead\n",
      "\n",
      "See the caveats in the documentation: https://pandas.pydata.org/pandas-docs/stable/user_guide/indexing.html#returning-a-view-versus-a-copy\n",
      "  stations_loc[\"Longitude\"] = (stations[\"Longitude\"]-western[0])*53\n",
      "C:\\Users\\ari_r\\AppData\\Local\\Temp\\ipykernel_26884\\1098857382.py:34: SettingWithCopyWarning: \n",
      "A value is trying to be set on a copy of a slice from a DataFrame\n",
      "\n",
      "See the caveats in the documentation: https://pandas.pydata.org/pandas-docs/stable/user_guide/indexing.html#returning-a-view-versus-a-copy\n",
      "  stations.rename(columns={\"Longitude\": 0, \"Latitude\":1}, inplace=True)\n"
     ]
    }
   ],
   "source": [
    "import matplotlib.pyplot as plt\n",
    "import pandas as pd\n",
    "import numpy as np\n",
    "from numpy import random\n",
    "from gurobipy import *\n",
    "from scipy.spatial.distance import cdist, euclidean\n",
    "from scipy.stats import truncnorm\n",
    "from scipy.sparse import csr_matrix\n",
    "from time import time\n",
    "import networkx as nx\n",
    "\n",
    "import pickle\n",
    "\n",
    "\n",
    "#path = \"C:/Users/a.rojasa55/OneDrive - Universidad de los Andes/Documentos/MOPTA-23/Data/\"\n",
    "path = \"C:/Users/ari_r/OneDrive - Universidad de los Andes/Documentos/MOPTA-23/Data/\"\n",
    "#path = '/Users/juanbeta/My Drive/Research/MOPTA/MOPTA-23/Data/'\n",
    "\n",
    "vehicles = pd.read_csv(path+'MOPTA2023_car_locations.csv', sep = ',', header = None)\n",
    "vehicles = vehicles.append([vehicles]*9,ignore_index=True)\n",
    "\n",
    "stations = pd.read_csv(path+\"fuel_stations.csv\")\n",
    "\n",
    "northern = (-79.761960, 42.269385)\n",
    "southern = (-76.9909,39.7198)\n",
    "western = (-80.519400, 40.639400)\n",
    "eastern = (-74.689603, 41.363559)\n",
    "\n",
    "stations_loc = stations[[\"Longitude\",\"Latitude\"]]\n",
    "stations_loc[\"Latitude\"] = (stations[\"Latitude\"]-southern[1])*69*165/178\n",
    "stations_loc[\"Longitude\"] = (stations[\"Longitude\"]-western[0])*53\n",
    "\n",
    "stations = stations_loc[(stations_loc[\"Longitude\"] <= 290) & (stations_loc[\"Latitude\"] <= 150)]\n",
    "stations.rename(columns={\"Longitude\": 0, \"Latitude\":1}, inplace=True)"
   ]
  },
  {
   "cell_type": "code",
   "execution_count": 2,
   "metadata": {},
   "outputs": [],
   "source": [
    "loc, scale, min_v, max_v= 100, 50, 20, 250\n",
    "a, b = (min_v - loc) / scale, (max_v - loc) / scale\n",
    "\n",
    "def generate_distances():\n",
    "    distances = dict()\n",
    "    for i in vehicles.index:\n",
    "        for st in stations.index:    \n",
    "            distances[st,i] = euclidean([vehicles[0][i], vehicles[1][i]],[stations[0][st], stations[1][st]])\n",
    "    return distances\n",
    "\n",
    "def generate_feasible_instance(distances):\n",
    "    flag = True\n",
    "    ii = -1\n",
    "    while flag:\n",
    "        ii += 1\n",
    "        flag = False\n",
    "        total_v = 0\n",
    "        ranges, realized = list(), list()\n",
    "\n",
    "        for i in vehicles.index:\n",
    "            feas = False\n",
    "            rr = truncnorm.rvs(a = a, b = b, loc = loc, scale = scale, size = 1)\n",
    "            ranges.append(rr[0])\n",
    "            prob = np.exp(-0.012**2*(rr-20)**2)\n",
    "            realization = random.choice([True,False], p = [prob[0], 1-prob[0]])\n",
    "            realized.append(realization)\n",
    "            if realization == True:\n",
    "                total_v += 1\n",
    "                for st in stations.index:    \n",
    "                    if distances[st,i] <= rr:\n",
    "                        feas = True\n",
    "\n",
    "                if not feas:\n",
    "                    flag = True\n",
    "                    print(f'\\tTry n. {ii} failed at vehicle {i}')\n",
    "                    break\n",
    "    \n",
    "    print(f'\\tTry n. {ii} succesfull - {total_v} realized EV')\n",
    "\n",
    "    return ranges, realized, total_v"
   ]
  },
  {
   "cell_type": "code",
   "execution_count": null,
   "metadata": {},
   "outputs": [],
   "source": [
    "random.seed(0)\n",
    "\n",
    "\n",
    "total_ev = dict()\n",
    "\n",
    "realizations = list()\n",
    "for instance in range(25):\n",
    "    print(f'\\nGENERATING INSTANCE N.o {instance}')\n",
    "    ranges, realized, total_v = generate_feasible_instance(d_matrix)\n",
    "\n",
    "    realizations.append((ranges,realized))\n",
    "\n",
    "    vehicles[f'ranges {instance}'] = ranges\n",
    "    vehicles[f'realized {instance}'] = realized\n",
    "\n",
    "    total_ev[instance] = total_v\n",
    "\n",
    "data0 = [total_ev, realizations]\n",
    "data = [total_ev, vehicles]\n",
    "\n",
    "a_file = open(path + f'feasible instances0', \"wb\")\n",
    "pickle.dump(data0, a_file)\n",
    "a_file.close()\n",
    "\n",
    "\n",
    "a_file = open(path + f'feasible instances', \"wb\")\n",
    "pickle.dump(data, a_file)\n",
    "a_file.close()"
   ]
  },
  {
   "cell_type": "code",
   "execution_count": 3,
   "metadata": {},
   "outputs": [],
   "source": [
    "file = open(path + f'feasible instances', 'rb')\n",
    "data = pickle.load(file)[1]\n",
    "file.close()"
   ]
  },
  {
   "cell_type": "code",
   "execution_count": 7,
   "metadata": {},
   "outputs": [],
   "source": [
    "d_matrix = generate_distances()"
   ]
  },
  {
   "cell_type": "code",
   "execution_count": 8,
   "metadata": {},
   "outputs": [
    {
     "ename": "KeyboardInterrupt",
     "evalue": "",
     "output_type": "error",
     "traceback": [
      "\u001b[1;31m---------------------------------------------------------------------------\u001b[0m",
      "\u001b[1;31mKeyboardInterrupt\u001b[0m                         Traceback (most recent call last)",
      "Cell \u001b[1;32mIn[8], line 2\u001b[0m\n\u001b[0;32m      1\u001b[0m \u001b[39mfor\u001b[39;00m sc \u001b[39min\u001b[39;00m \u001b[39mrange\u001b[39m(\u001b[39m25\u001b[39m):\n\u001b[1;32m----> 2\u001b[0m     reach \u001b[39m=\u001b[39m [\u001b[39msum\u001b[39m(\u001b[39m1\u001b[39m \u001b[39mif\u001b[39;00m data\u001b[39m.\u001b[39mloc[i,\u001b[39mf\u001b[39m\u001b[39m\"\u001b[39m\u001b[39mrealized \u001b[39m\u001b[39m{\u001b[39;00msc\u001b[39m}\u001b[39;00m\u001b[39m\"\u001b[39m] \u001b[39melse\u001b[39;00m \u001b[39m0\u001b[39m \u001b[39mfor\u001b[39;00m j \u001b[39min\u001b[39;00m stations\u001b[39m.\u001b[39mindex \u001b[39mif\u001b[39;00m data\u001b[39m.\u001b[39mloc[i,\u001b[39mf\u001b[39m\u001b[39m\"\u001b[39m\u001b[39mranges \u001b[39m\u001b[39m{\u001b[39;00msc\u001b[39m}\u001b[39;00m\u001b[39m\"\u001b[39m]\u001b[39m>\u001b[39m\u001b[39m=\u001b[39md_matrix[j,i]) \u001b[39mfor\u001b[39;00m i \u001b[39min\u001b[39;00m vehicles\u001b[39m.\u001b[39mindex]\n\u001b[0;32m      3\u001b[0m     data[\u001b[39mf\u001b[39m\u001b[39m\"\u001b[39m\u001b[39mreachable stations \u001b[39m\u001b[39m{\u001b[39;00msc\u001b[39m}\u001b[39;00m\u001b[39m\"\u001b[39m] \u001b[39m=\u001b[39m reach\n",
      "Cell \u001b[1;32mIn[8], line 2\u001b[0m, in \u001b[0;36m<listcomp>\u001b[1;34m(.0)\u001b[0m\n\u001b[0;32m      1\u001b[0m \u001b[39mfor\u001b[39;00m sc \u001b[39min\u001b[39;00m \u001b[39mrange\u001b[39m(\u001b[39m25\u001b[39m):\n\u001b[1;32m----> 2\u001b[0m     reach \u001b[39m=\u001b[39m [\u001b[39msum\u001b[39;49m(\u001b[39m1\u001b[39;49m \u001b[39mif\u001b[39;49;00m data\u001b[39m.\u001b[39;49mloc[i,\u001b[39mf\u001b[39;49m\u001b[39m\"\u001b[39;49m\u001b[39mrealized \u001b[39;49m\u001b[39m{\u001b[39;49;00msc\u001b[39m}\u001b[39;49;00m\u001b[39m\"\u001b[39;49m] \u001b[39melse\u001b[39;49;00m \u001b[39m0\u001b[39;49m \u001b[39mfor\u001b[39;49;00m j \u001b[39min\u001b[39;49;00m stations\u001b[39m.\u001b[39;49mindex \u001b[39mif\u001b[39;49;00m data\u001b[39m.\u001b[39;49mloc[i,\u001b[39mf\u001b[39;49m\u001b[39m\"\u001b[39;49m\u001b[39mranges \u001b[39;49m\u001b[39m{\u001b[39;49;00msc\u001b[39m}\u001b[39;49;00m\u001b[39m\"\u001b[39;49m]\u001b[39m>\u001b[39;49m\u001b[39m=\u001b[39;49md_matrix[j,i]) \u001b[39mfor\u001b[39;00m i \u001b[39min\u001b[39;00m vehicles\u001b[39m.\u001b[39mindex]\n\u001b[0;32m      3\u001b[0m     data[\u001b[39mf\u001b[39m\u001b[39m\"\u001b[39m\u001b[39mreachable stations \u001b[39m\u001b[39m{\u001b[39;00msc\u001b[39m}\u001b[39;00m\u001b[39m\"\u001b[39m] \u001b[39m=\u001b[39m reach\n",
      "Cell \u001b[1;32mIn[8], line 2\u001b[0m, in \u001b[0;36m<genexpr>\u001b[1;34m(.0)\u001b[0m\n\u001b[0;32m      1\u001b[0m \u001b[39mfor\u001b[39;00m sc \u001b[39min\u001b[39;00m \u001b[39mrange\u001b[39m(\u001b[39m25\u001b[39m):\n\u001b[1;32m----> 2\u001b[0m     reach \u001b[39m=\u001b[39m [\u001b[39msum\u001b[39m(\u001b[39m1\u001b[39m \u001b[39mif\u001b[39;00m data\u001b[39m.\u001b[39;49mloc[i,\u001b[39mf\u001b[39;49m\u001b[39m\"\u001b[39;49m\u001b[39mrealized \u001b[39;49m\u001b[39m{\u001b[39;49;00msc\u001b[39m}\u001b[39;49;00m\u001b[39m\"\u001b[39;49m] \u001b[39melse\u001b[39;00m \u001b[39m0\u001b[39m \u001b[39mfor\u001b[39;00m j \u001b[39min\u001b[39;00m stations\u001b[39m.\u001b[39mindex \u001b[39mif\u001b[39;00m data\u001b[39m.\u001b[39mloc[i,\u001b[39mf\u001b[39m\u001b[39m\"\u001b[39m\u001b[39mranges \u001b[39m\u001b[39m{\u001b[39;00msc\u001b[39m}\u001b[39;00m\u001b[39m\"\u001b[39m]\u001b[39m>\u001b[39m\u001b[39m=\u001b[39md_matrix[j,i]) \u001b[39mfor\u001b[39;00m i \u001b[39min\u001b[39;00m vehicles\u001b[39m.\u001b[39mindex]\n\u001b[0;32m      3\u001b[0m     data[\u001b[39mf\u001b[39m\u001b[39m\"\u001b[39m\u001b[39mreachable stations \u001b[39m\u001b[39m{\u001b[39;00msc\u001b[39m}\u001b[39;00m\u001b[39m\"\u001b[39m] \u001b[39m=\u001b[39m reach\n",
      "File \u001b[1;32mc:\\Users\\ari_r\\anaconda3\\envs\\vscode\\lib\\site-packages\\pandas\\core\\indexing.py:1066\u001b[0m, in \u001b[0;36m_LocationIndexer.__getitem__\u001b[1;34m(self, key)\u001b[0m\n\u001b[0;32m   1064\u001b[0m     key \u001b[39m=\u001b[39m \u001b[39mtuple\u001b[39m(com\u001b[39m.\u001b[39mapply_if_callable(x, \u001b[39mself\u001b[39m\u001b[39m.\u001b[39mobj) \u001b[39mfor\u001b[39;00m x \u001b[39min\u001b[39;00m key)\n\u001b[0;32m   1065\u001b[0m     \u001b[39mif\u001b[39;00m \u001b[39mself\u001b[39m\u001b[39m.\u001b[39m_is_scalar_access(key):\n\u001b[1;32m-> 1066\u001b[0m         \u001b[39mreturn\u001b[39;00m \u001b[39mself\u001b[39;49m\u001b[39m.\u001b[39;49mobj\u001b[39m.\u001b[39;49m_get_value(\u001b[39m*\u001b[39;49mkey, takeable\u001b[39m=\u001b[39;49m\u001b[39mself\u001b[39;49m\u001b[39m.\u001b[39;49m_takeable)\n\u001b[0;32m   1067\u001b[0m     \u001b[39mreturn\u001b[39;00m \u001b[39mself\u001b[39m\u001b[39m.\u001b[39m_getitem_tuple(key)\n\u001b[0;32m   1068\u001b[0m \u001b[39melse\u001b[39;00m:\n\u001b[0;32m   1069\u001b[0m     \u001b[39m# we by definition only have the 0th axis\u001b[39;00m\n",
      "File \u001b[1;32mc:\\Users\\ari_r\\anaconda3\\envs\\vscode\\lib\\site-packages\\pandas\\core\\frame.py:3915\u001b[0m, in \u001b[0;36mDataFrame._get_value\u001b[1;34m(self, index, col, takeable)\u001b[0m\n\u001b[0;32m   3912\u001b[0m     series \u001b[39m=\u001b[39m \u001b[39mself\u001b[39m\u001b[39m.\u001b[39m_ixs(col, axis\u001b[39m=\u001b[39m\u001b[39m1\u001b[39m)\n\u001b[0;32m   3913\u001b[0m     \u001b[39mreturn\u001b[39;00m series\u001b[39m.\u001b[39m_values[index]\n\u001b[1;32m-> 3915\u001b[0m series \u001b[39m=\u001b[39m \u001b[39mself\u001b[39;49m\u001b[39m.\u001b[39;49m_get_item_cache(col)\n\u001b[0;32m   3916\u001b[0m engine \u001b[39m=\u001b[39m \u001b[39mself\u001b[39m\u001b[39m.\u001b[39mindex\u001b[39m.\u001b[39m_engine\n\u001b[0;32m   3918\u001b[0m \u001b[39mif\u001b[39;00m \u001b[39mnot\u001b[39;00m \u001b[39misinstance\u001b[39m(\u001b[39mself\u001b[39m\u001b[39m.\u001b[39mindex, MultiIndex):\n\u001b[0;32m   3919\u001b[0m     \u001b[39m# CategoricalIndex: Trying to use the engine fastpath may give incorrect\u001b[39;00m\n\u001b[0;32m   3920\u001b[0m     \u001b[39m#  results if our categories are integers that dont match our codes\u001b[39;00m\n\u001b[0;32m   3921\u001b[0m     \u001b[39m# IntervalIndex: IntervalTree has no get_loc\u001b[39;00m\n",
      "File \u001b[1;32mc:\\Users\\ari_r\\anaconda3\\envs\\vscode\\lib\\site-packages\\pandas\\core\\frame.py:4275\u001b[0m, in \u001b[0;36mDataFrame._get_item_cache\u001b[1;34m(self, item)\u001b[0m\n\u001b[0;32m   4273\u001b[0m cache \u001b[39m=\u001b[39m \u001b[39mself\u001b[39m\u001b[39m.\u001b[39m_item_cache\n\u001b[0;32m   4274\u001b[0m res \u001b[39m=\u001b[39m cache\u001b[39m.\u001b[39mget(item)\n\u001b[1;32m-> 4275\u001b[0m \u001b[39mif\u001b[39;00m res \u001b[39mis\u001b[39;49;00m \u001b[39mNone\u001b[39;49;00m:\n\u001b[0;32m   4276\u001b[0m     \u001b[39m# All places that call _get_item_cache have unique columns,\u001b[39;00m\n\u001b[0;32m   4277\u001b[0m     \u001b[39m#  pending resolution of GH#33047\u001b[39;00m\n\u001b[0;32m   4279\u001b[0m     loc \u001b[39m=\u001b[39m \u001b[39mself\u001b[39m\u001b[39m.\u001b[39mcolumns\u001b[39m.\u001b[39mget_loc(item)\n\u001b[0;32m   4280\u001b[0m     res \u001b[39m=\u001b[39m \u001b[39mself\u001b[39m\u001b[39m.\u001b[39m_ixs(loc, axis\u001b[39m=\u001b[39m\u001b[39m1\u001b[39m)\n",
      "\u001b[1;31mKeyboardInterrupt\u001b[0m: "
     ]
    }
   ],
   "source": [
    "for sc in range(25):\n",
    "    reach = [sum(1 if data.loc[i,f\"realized {sc}\"] else 0 for j in stations.index if data.loc[i,f\"ranges {sc}\"]>=d_matrix[j,i]) for i in data.index]\n",
    "    data[f\"reachable stations {sc}\"] = reach"
   ]
  },
  {
   "cell_type": "code",
   "execution_count": null,
   "metadata": {},
   "outputs": [],
   "source": [
    "a_file = open(path + f'feasible instances reachable', \"wb\")\n",
    "pickle.dump(data, a_file)\n",
    "a_file.close()"
   ]
  },
  {
   "cell_type": "code",
   "execution_count": null,
   "metadata": {},
   "outputs": [],
   "source": [
    "fig, ax = plt.subplots(nrows=1,ncols=1,figsize=(20,6))\n",
    "\n",
    "boxes = {}\n",
    "for sc in range(25):\n",
    "    boxes[sc] = ax.boxplot(x=[data.loc[i,f\"reachable stations\"] for i in data.index if data.loc[i,f\"reachable stations\"] > 0],positions=[sc])\n",
    "\n",
    "for box in boxes:\n",
    "    for item in [\"boxes\",\"whiskers\",\"fliers\",\"caps\"]:\n",
    "        plt.setp(box[item], color=\"deepskyblue\")\n",
    "    plt.setp(box[\"medians\"],color=\"white\")\n",
    "    plt.setp(box[\"fliers\"],markeredgecolor=\"deepskyblue\")\n",
    "\n"
   ]
  }
 ],
 "metadata": {
  "kernelspec": {
   "display_name": "vscode",
   "language": "python",
   "name": "python3"
  },
  "language_info": {
   "codemirror_mode": {
    "name": "ipython",
    "version": 3
   },
   "file_extension": ".py",
   "mimetype": "text/x-python",
   "name": "python",
   "nbconvert_exporter": "python",
   "pygments_lexer": "ipython3",
   "version": "3.10.8"
  },
  "orig_nbformat": 4
 },
 "nbformat": 4,
 "nbformat_minor": 2
}
