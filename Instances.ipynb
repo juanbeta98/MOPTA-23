{
 "cells": [
  {
   "cell_type": "code",
   "execution_count": 1,
   "metadata": {},
   "outputs": [
    {
     "name": "stderr",
     "output_type": "stream",
     "text": [
      "C:\\Users\\ari_r\\AppData\\Local\\Temp\\ipykernel_13540\\3189103986.py:24: SettingWithCopyWarning: \n",
      "A value is trying to be set on a copy of a slice from a DataFrame.\n",
      "Try using .loc[row_indexer,col_indexer] = value instead\n",
      "\n",
      "See the caveats in the documentation: https://pandas.pydata.org/pandas-docs/stable/user_guide/indexing.html#returning-a-view-versus-a-copy\n",
      "  stations_loc[\"Latitude\"] = (stations[\"Latitude\"]-southern[1])*69*165/178\n",
      "C:\\Users\\ari_r\\AppData\\Local\\Temp\\ipykernel_13540\\3189103986.py:25: SettingWithCopyWarning: \n",
      "A value is trying to be set on a copy of a slice from a DataFrame.\n",
      "Try using .loc[row_indexer,col_indexer] = value instead\n",
      "\n",
      "See the caveats in the documentation: https://pandas.pydata.org/pandas-docs/stable/user_guide/indexing.html#returning-a-view-versus-a-copy\n",
      "  stations_loc[\"Longitude\"] = (stations[\"Longitude\"]-western[0])*53\n",
      "C:\\Users\\ari_r\\AppData\\Local\\Temp\\ipykernel_13540\\3189103986.py:28: SettingWithCopyWarning: \n",
      "A value is trying to be set on a copy of a slice from a DataFrame\n",
      "\n",
      "See the caveats in the documentation: https://pandas.pydata.org/pandas-docs/stable/user_guide/indexing.html#returning-a-view-versus-a-copy\n",
      "  stations.rename(columns={\"Longitude\": 0, \"Latitude\":1}, inplace=True)\n"
     ]
    }
   ],
   "source": [
    "\n",
    "import matplotlib.pyplot as plt\n",
    "import pandas as pd\n",
    "import numpy as np\n",
    "import random\n",
    "from gurobipy import *\n",
    "from scipy.spatial.distance import cdist, euclidean\n",
    "from scipy.stats import truncnorm\n",
    "from scipy.sparse import csr_matrix\n",
    "from time import time\n",
    "import networkx as nx\n",
    "\n",
    "#path = \"C:/Users/a.rojasa55/OneDrive - Universidad de los Andes/Documentos/MOPTA-23/Data/\"\n",
    "path = \"C:/Users/ari_r/OneDrive - Universidad de los Andes/Documentos/MOPTA-23/Data/\"\n",
    "vehicles = pd.read_csv(path+'MOPTA2023_car_locations.csv', sep = ',', header = None)\n",
    "vehicles = vehicles.append([vehicles]*9,ignore_index=True)\n",
    "\n",
    "stations = pd.read_csv(path+\"fuel_stations.csv\")\n",
    "\n",
    "northern = (-79.761960, 42.269385)\n",
    "southern = (-76.9909,39.7198)\n",
    "western = (-80.519400, 40.639400)\n",
    "eastern = (-74.689603, 41.363559)\n",
    "\n",
    "stations_loc = stations[[\"Longitude\",\"Latitude\"]]\n",
    "stations_loc[\"Latitude\"] = (stations[\"Latitude\"]-southern[1])*69*165/178\n",
    "stations_loc[\"Longitude\"] = (stations[\"Longitude\"]-western[0])*53\n",
    "\n",
    "stations = stations_loc[(stations_loc[\"Longitude\"] <= 290) & (stations_loc[\"Latitude\"] <= 150)]\n",
    "stations.rename(columns={\"Longitude\": 0, \"Latitude\":1}, inplace=True)"
   ]
  }
 ],
 "metadata": {
  "kernelspec": {
   "display_name": "vscode",
   "language": "python",
   "name": "python3"
  },
  "language_info": {
   "codemirror_mode": {
    "name": "ipython",
    "version": 3
   },
   "file_extension": ".py",
   "mimetype": "text/x-python",
   "name": "python",
   "nbconvert_exporter": "python",
   "pygments_lexer": "ipython3",
   "version": "3.10.8"
  },
  "orig_nbformat": 4
 },
 "nbformat": 4,
 "nbformat_minor": 2
}
