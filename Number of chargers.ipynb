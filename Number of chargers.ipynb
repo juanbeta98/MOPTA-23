{
 "cells": [
  {
   "cell_type": "code",
   "execution_count": 1,
   "metadata": {},
   "outputs": [],
   "source": [
    "import matplotlib.pyplot as plt\n",
    "import numpy as np\n",
    "import gurobipy as gb\n",
    "import os\n",
    "from pickle import dump, load\n",
    "from time import process_time\n",
    "from source import*\n",
    "\n",
    "path = os.getcwd()"
   ]
  },
  {
   "cell_type": "code",
   "execution_count": 2,
   "metadata": {},
   "outputs": [
    {
     "data": {
      "text/plain": [
       "(459, 197.0)"
      ]
     },
     "execution_count": 2,
     "metadata": {},
     "output_type": "execute_result"
    }
   ],
   "source": [
    "file = open(path+\"/Results/Configurations/Open Stations/open_stations_18\",\"rb\"); S = load(file); file.close()\n",
    "\n",
    "K_s = {}; K ={}\n",
    "for sc in range(25):\n",
    "    file = open(path+f\"/Data/K/K_sc{sc}\", \"rb\")\n",
    "    K[sc] = load(file); file.close()\n",
    "\n",
    "    file = open(path+f\"/Data/K_s10/Ks_sc{sc}\", \"rb\")\n",
    "    K_s[sc] = load(file); file.close()\n",
    "\n",
    "stress = {}\n",
    "for s in S:\n",
    "    stress[s] = np.mean(np.array([len(K_s[sc][s]) for sc in range(25)]))\n",
    "\n",
    "max_s = max(stress, key=stress.get)\n",
    "max_s, stress[max_s]"
   ]
  },
  {
   "cell_type": "code",
   "execution_count": 3,
   "metadata": {},
   "outputs": [],
   "source": [
    "def number_of_chargers(s,S,y,exhaust=False):\n",
    "\n",
    "    routes = {}\n",
    "    for sc in range(25):\n",
    "\n",
    "        K, K_s, S_k, a, t = load_pickle(path+\"/Data/\",sc)\n",
    "        S_k = {k:[s for s in S_k[k] if s in S] for k in K}\n",
    "        a.update({(\"s\",s):0 for s in S})\n",
    "        a.update({(\"e\",s):30 for s in S})\n",
    "        t.update({(\"s\",s):0 for s in S})\n",
    "        t.update({(\"e\",s):0 for s in S})\n",
    "\n",
    "        mp = gb.Model(\"Restricted Master Problem\")\n",
    "\n",
    "        dummy_0 = {k:mp.addVar(vtype=gb.GRB.CONTINUOUS, obj=1, name=f\"st0_{k}\") for k in K_s[s]}\n",
    "        aux = mp.addVar(vtype=gb.GRB.CONTINUOUS, obj=2, name=f\"aux_{s}\")\n",
    "\n",
    "        vehic_assign = {}\n",
    "        for k in K_s[s]:\n",
    "            vehic_assign[k] = mp.addConstr(dummy_0[k] == 1, f\"V{k}_assignment\")\n",
    "\n",
    "        st_conv = mp.addConstr(aux <= y, f\"S{s}_convexity\")\n",
    "\n",
    "        mp.setParam(\"OutputFlag\",0)\n",
    "\n",
    "        time0 = process_time(); i = 0\n",
    "        lbd = []\n",
    "\n",
    "        while True:\n",
    "            \n",
    "            mp.update()\n",
    "            mp.optimize()\n",
    "\n",
    "            pi = {k:vehic_assign[k].getAttr(\"Pi\") for k in K_s[s]}\n",
    "            sigma = st_conv.getAttr(\"Pi\")\n",
    "\n",
    "            print(f\"\\t\\tIteration {i}:\\t\\tMP obj: {round(mp.getObjective().getValue(),2)}\\ttime: {round(process_time()-time0,2)}s\")\n",
    "            i += 1\n",
    "\n",
    "            V,A,rc = get_graph(s,K_s[s],a,pi,sigma)\n",
    "            ext = vertices_extensions(V,A)\n",
    "\n",
    "            routes_DFS = []; covered_nodes = set()\n",
    "            if exhaust: label_DFS_exhaustive(v=\"s\",rP=0,tP=0,qP=0,P=[],cK=covered_nodes,L=routes_DFS,s=s,r=rc,t=t,a=a,ext=ext)\n",
    "            else: label_DFS(v=\"s\",rP=0,tP=0,qP=0,P=[],cK=covered_nodes,L=routes_DFS,s=s,r=rc,t=t,a=a,ext=ext)\n",
    "            opt = len(routes_DFS)\n",
    "\n",
    "            for l in routes_DFS:\n",
    "                col = {k:1 if k in l else 0 for k in K_s[s]}\n",
    "                new_Col = gb.Column(col.values(),vehic_assign.values())\n",
    "                lbd.append(mp.addVar(vtype=gb.GRB.CONTINUOUS,obj=0,ub=1,column=new_Col))\n",
    "\n",
    "                mp.chgCoeff(st_conv,lbd[-1],1)\n",
    "\n",
    "            if opt == 0: mpsol = mp.getObjective().getValue(); break\n",
    "        \n",
    "        for v in mp.getVars():\n",
    "            v.vtype = gb.GRB.BINARY\n",
    "        if mpsol > 0: mp.setParam(\"MIPGap\",0.01)\n",
    "        mp.setParam(\"MIPFocus\",2)\n",
    "        mp.update(); mp.optimize()\n",
    "\n",
    "        print(f\"IMP solution: {mp.getObjective().getValue()} infeasible vehicles\")\n",
    "        routes[sc] = []\n",
    "        for l in lbd:\n",
    "            if l.X > 0.5:\n",
    "                col = [k for k in K_s[s] if mp.getCoeff(vehic_assign[k],l) == 1]\n",
    "                routes[sc].append(col)\n",
    "        \n",
    "        break\n",
    "\n",
    "    return routes"
   ]
  },
  {
   "cell_type": "code",
   "execution_count": 4,
   "metadata": {},
   "outputs": [
    {
     "name": "stdout",
     "output_type": "stream",
     "text": [
      "Set parameter Username\n",
      "Academic license - for non-commercial use only - expires 2024-04-07\n",
      "\t\tIteration 0:\t\tMP obj: 192.0\ttime: 0.0s\n",
      "\t\tIteration 1:\t\tMP obj: 51.0\ttime: 2.22s\n",
      "\t\tIteration 2:\t\tMP obj: 51.0\ttime: 4.33s\n",
      "\t\tIteration 3:\t\tMP obj: 51.0\ttime: 6.34s\n",
      "\t\tIteration 4:\t\tMP obj: 51.0\ttime: 8.0s\n",
      "\t\tIteration 5:\t\tMP obj: 51.0\ttime: 9.77s\n",
      "\t\tIteration 6:\t\tMP obj: 51.0\ttime: 11.19s\n",
      "\t\tIteration 7:\t\tMP obj: 51.0\ttime: 12.62s\n",
      "\t\tIteration 8:\t\tMP obj: 51.0\ttime: 14.27s\n",
      "\t\tIteration 9:\t\tMP obj: 51.0\ttime: 15.94s\n",
      "\t\tIteration 10:\t\tMP obj: 51.0\ttime: 17.48s\n",
      "\t\tIteration 11:\t\tMP obj: 51.0\ttime: 19.12s\n",
      "\t\tIteration 12:\t\tMP obj: 51.0\ttime: 20.84s\n",
      "\t\tIteration 13:\t\tMP obj: 51.0\ttime: 22.67s\n",
      "\t\tIteration 14:\t\tMP obj: 50.99\ttime: 24.45s\n",
      "\t\tIteration 15:\t\tMP obj: 50.94\ttime: 26.11s\n",
      "\t\tIteration 16:\t\tMP obj: 50.65\ttime: 27.91s\n",
      "\t\tIteration 17:\t\tMP obj: 50.61\ttime: 29.66s\n",
      "\t\tIteration 18:\t\tMP obj: 50.59\ttime: 31.56s\n",
      "\t\tIteration 19:\t\tMP obj: 50.54\ttime: 33.89s\n",
      "\t\tIteration 20:\t\tMP obj: 50.51\ttime: 35.73s\n",
      "\t\tIteration 21:\t\tMP obj: 50.44\ttime: 37.5s\n",
      "\t\tIteration 22:\t\tMP obj: 50.37\ttime: 39.56s\n",
      "\t\tIteration 23:\t\tMP obj: 50.27\ttime: 41.3s\n",
      "\t\tIteration 24:\t\tMP obj: 50.2\ttime: 43.08s\n",
      "\t\tIteration 25:\t\tMP obj: 50.13\ttime: 45.03s\n",
      "\t\tIteration 26:\t\tMP obj: 50.02\ttime: 46.97s\n",
      "\t\tIteration 27:\t\tMP obj: 49.97\ttime: 48.8s\n",
      "\t\tIteration 28:\t\tMP obj: 49.9\ttime: 50.91s\n",
      "\t\tIteration 29:\t\tMP obj: 49.86\ttime: 52.64s\n",
      "\t\tIteration 30:\t\tMP obj: 49.79\ttime: 54.42s\n",
      "\t\tIteration 31:\t\tMP obj: 49.79\ttime: 56.69s\n",
      "\t\tIteration 32:\t\tMP obj: 49.78\ttime: 58.61s\n",
      "\t\tIteration 33:\t\tMP obj: 49.67\ttime: 60.41s\n",
      "\t\tIteration 34:\t\tMP obj: 49.65\ttime: 62.16s\n",
      "\t\tIteration 35:\t\tMP obj: 49.65\ttime: 64.09s\n",
      "IMP solution: 51.0 infeasible vehicles\n"
     ]
    }
   ],
   "source": [
    "routes_DFS = number_of_chargers(max_s,S,8)"
   ]
  },
  {
   "cell_type": "code",
   "execution_count": 5,
   "metadata": {},
   "outputs": [
    {
     "name": "stdout",
     "output_type": "stream",
     "text": [
      "DFS Labeling covered vehicles: 141\n"
     ]
    }
   ],
   "source": [
    "print(f\"DFS Labeling covered vehicles: {sum(len(r) for r in routes_DFS[0])}\")"
   ]
  },
  {
   "cell_type": "code",
   "execution_count": 4,
   "metadata": {},
   "outputs": [
    {
     "name": "stdout",
     "output_type": "stream",
     "text": [
      "Set parameter Username\n",
      "Academic license - for non-commercial use only - expires 2024-04-07\n",
      "\t\tIteration 0:\t\tMP obj: 192.0\ttime: 0.0s\n"
     ]
    },
    {
     "ename": "TypeError",
     "evalue": "label_DFS_exhaustive() missing 1 required positional argument: 'ext'",
     "output_type": "error",
     "traceback": [
      "\u001b[1;31m---------------------------------------------------------------------------\u001b[0m",
      "\u001b[1;31mTypeError\u001b[0m                                 Traceback (most recent call last)",
      "Cell \u001b[1;32mIn[4], line 1\u001b[0m\n\u001b[1;32m----> 1\u001b[0m routes_DFS_exhaustive \u001b[39m=\u001b[39m number_of_chargers(max_s,S,\u001b[39m8\u001b[39;49m,exhaust\u001b[39m=\u001b[39;49m\u001b[39mTrue\u001b[39;49;00m)\n",
      "Cell \u001b[1;32mIn[3], line 44\u001b[0m, in \u001b[0;36mnumber_of_chargers\u001b[1;34m(s, S, y, exhaust)\u001b[0m\n\u001b[0;32m     41\u001b[0m ext \u001b[39m=\u001b[39m vertices_extensions(V,A)\n\u001b[0;32m     43\u001b[0m routes_DFS \u001b[39m=\u001b[39m []; covered_nodes \u001b[39m=\u001b[39m \u001b[39mset\u001b[39m()\n\u001b[1;32m---> 44\u001b[0m \u001b[39mif\u001b[39;00m exhaust: label_DFS_exhaustive(v\u001b[39m=\u001b[39;49m\u001b[39m\"\u001b[39;49m\u001b[39ms\u001b[39;49m\u001b[39m\"\u001b[39;49m,rP\u001b[39m=\u001b[39;49m\u001b[39m0\u001b[39;49m,tP\u001b[39m=\u001b[39;49m\u001b[39m0\u001b[39;49m,qP\u001b[39m=\u001b[39;49m\u001b[39m0\u001b[39;49m,P\u001b[39m=\u001b[39;49m[],cK\u001b[39m=\u001b[39;49mcovered_nodes,L\u001b[39m=\u001b[39;49mroutes_DFS,s\u001b[39m=\u001b[39;49ms,r\u001b[39m=\u001b[39;49mrc,t\u001b[39m=\u001b[39;49mt,a\u001b[39m=\u001b[39;49ma,ext\u001b[39m=\u001b[39;49mext)\n\u001b[0;32m     45\u001b[0m \u001b[39melse\u001b[39;00m: label_DFS(v\u001b[39m=\u001b[39m\u001b[39m\"\u001b[39m\u001b[39ms\u001b[39m\u001b[39m\"\u001b[39m,rP\u001b[39m=\u001b[39m\u001b[39m0\u001b[39m,tP\u001b[39m=\u001b[39m\u001b[39m0\u001b[39m,qP\u001b[39m=\u001b[39m\u001b[39m0\u001b[39m,P\u001b[39m=\u001b[39m[],cK\u001b[39m=\u001b[39mcovered_nodes,L\u001b[39m=\u001b[39mroutes_DFS,s\u001b[39m=\u001b[39ms,r\u001b[39m=\u001b[39mrc,t\u001b[39m=\u001b[39mt,a\u001b[39m=\u001b[39ma,ext\u001b[39m=\u001b[39mext)\n\u001b[0;32m     46\u001b[0m opt \u001b[39m=\u001b[39m \u001b[39mlen\u001b[39m(routes_DFS)\n",
      "File \u001b[1;32mc:\\Users\\a.rojasa55\\OneDrive - Universidad de los andes\\Documentos\\MOPTA-23\\source.py:80\u001b[0m, in \u001b[0;36mlabel_DFS_exhaustive\u001b[1;34m(v, rP, tP, qP, P, cK, L, s, r, t, a, ext)\u001b[0m\n\u001b[0;32m     78\u001b[0m ntP \u001b[39m=\u001b[39m np\u001b[39m.\u001b[39mmax((tP,a[v1,s])) \u001b[39m+\u001b[39m t[v1,s]\n\u001b[0;32m     79\u001b[0m nrP \u001b[39m=\u001b[39m rP \u001b[39m+\u001b[39m r[v,v1]\n\u001b[1;32m---> 80\u001b[0m label_DFS_exhaustive(v1,nrP,ntP,nqP,nP,L,s,r,t,a,ext)\n",
      "\u001b[1;31mTypeError\u001b[0m: label_DFS_exhaustive() missing 1 required positional argument: 'ext'"
     ]
    }
   ],
   "source": [
    "routes_DFS_exhaustive = number_of_chargers(max_s,S,8,exhaust=True)"
   ]
  },
  {
   "cell_type": "code",
   "execution_count": null,
   "metadata": {},
   "outputs": [],
   "source": [
    "print(f\"DFS Labeling covered vehicles: {sum(len(r) for r in routes_DFS)}\")\n",
    "print(f\"Exhaustive DFS Labeling covered vehicles: {sum(len(r) for r in routes_DFS_exhaustive)}\")"
   ]
  }
 ],
 "metadata": {
  "kernelspec": {
   "display_name": "vscode",
   "language": "python",
   "name": "python3"
  },
  "language_info": {
   "codemirror_mode": {
    "name": "ipython",
    "version": 3
   },
   "file_extension": ".py",
   "mimetype": "text/x-python",
   "name": "python",
   "nbconvert_exporter": "python",
   "pygments_lexer": "ipython3",
   "version": "3.10.8"
  },
  "orig_nbformat": 4
 },
 "nbformat": 4,
 "nbformat_minor": 2
}
