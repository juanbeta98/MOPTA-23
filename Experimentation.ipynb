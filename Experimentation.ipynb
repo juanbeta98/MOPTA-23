{
 "cells": [
  {
   "cell_type": "code",
   "execution_count": null,
   "metadata": {},
   "outputs": [],
   "source": [
    "import matplotlib.pyplot as plt\n",
    "import pandas as pd\n",
    "import numpy as np\n",
    "import pickle\n",
    "import gurobipy as gb\n",
    "\n",
    "from time import process_time\n",
    "from source import *\n",
    "\n",
    "file = open(path + f'S', 'rb')\n",
    "global_S = pickle.load(file); cf = 5500; N = range(1,9); T = 2.5\n",
    "file.close()\n",
    "\n",
    "file = open(path + f'/K_s/Ks_sc0', 'rb')\n",
    "K_s = pickle.load(file); cf = 5500; N = range(1,9); T = 2.5\n",
    "file.close()\n",
    "global_S = [s for s in global_S if len(K_s[s])>0]"
   ]
  },
  {
   "cell_type": "code",
   "execution_count": null,
   "metadata": {},
   "outputs": [],
   "source": [
    "y, model, x = first_stage(global_S,cf)\n",
    "S = list(y.keys())\n",
    "print(S)\n",
    "\n",
    "time0 = process_time()\n",
    "optimal = False; ii = 0\n",
    "while not optimal:\n",
    "\n",
    "    print(f\" First Stage Iteration {ii}: {process_time()-time0}\")\n",
    "    K, K_s, S_k, a, t = load_pickle(path,0)\n",
    "    #S = [s for s in S if K_s[s]!=[]]\n",
    "\n",
    "    S_k = {k:[s for s in S_k[k] if s in S] for k in K}\n",
    "    a.update({(\"s\",s):0 for s in S})\n",
    "    a.update({(\"e\",s):T for s in S})\n",
    "    t.update({(\"e\",s):0 for s in S})\n",
    "\n",
    "    obj = second_stage_ESPP(S,K,K_s,S_k,T,y,a,t)\n",
    "\n",
    "    if obj == 0:\n",
    "        optimal = True\n",
    "    else:\n",
    "        model.addConstr(gb.quicksum(x[n,s] for n in N for s in global_S if x[n,s].X < 0.5) >= 1)\n",
    "        model.update()\n",
    "        model.optimize()\n",
    "\n",
    "        y = {s:sum(n*x[n,s].X for n in N) for s in global_S if sum(x[n,s].X for n in N) == 1}\n",
    "        S = list(y.keys())\n",
    "        ii += 1\n"
   ]
  }
 ],
 "metadata": {
  "kernelspec": {
   "display_name": "MOPTAEnv",
   "language": "python",
   "name": "python3"
  },
  "language_info": {
   "codemirror_mode": {
    "name": "ipython",
    "version": 3
   },
   "file_extension": ".py",
   "mimetype": "text/x-python",
   "name": "python",
   "nbconvert_exporter": "python",
   "pygments_lexer": "ipython3",
   "version": "3.10.10"
  },
  "orig_nbformat": 4
 },
 "nbformat": 4,
 "nbformat_minor": 2
}
