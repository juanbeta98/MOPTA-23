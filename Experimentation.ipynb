{
 "cells": [
  {
   "cell_type": "code",
   "execution_count": 2,
   "metadata": {},
   "outputs": [],
   "source": [
    "import matplotlib.pyplot as plt\n",
    "import pandas as pd\n",
    "import numpy as np\n",
    "import pickle\n",
    "import gurobipy as gb\n",
    "\n",
    "from time import process_time\n",
    "from source import *\n",
    "\n",
    "file = open(path + f'S', 'rb')\n",
    "global_S = pickle.load(file); cf = 5500; N = range(1,9); T = 2.5\n",
    "file.close()"
   ]
  },
  {
   "cell_type": "code",
   "execution_count": 3,
   "metadata": {},
   "outputs": [
    {
     "name": "stdout",
     "output_type": "stream",
     "text": [
      "Set parameter Username\n",
      "Academic license - for non-commercial use only - expires 2024-04-07\n",
      "Iteration 0: 0.0\n",
      "-----Second Stage iteration 0\n",
      "Iteration 1:\n",
      "4143 vehicles\tMP obj: 4143.0\ttime: 77.31s\n",
      "Iteration 2:\n",
      "3744 vehicles\tMP obj: 3735.0\ttime: 184.53s\n",
      "Iteration 3:\n",
      "3722 vehicles\tMP obj: 3711.33\ttime: 273.67s\n"
     ]
    },
    {
     "ename": "KeyboardInterrupt",
     "evalue": "",
     "output_type": "error",
     "traceback": [
      "\u001b[1;31m---------------------------------------------------------------------------\u001b[0m",
      "\u001b[1;31mKeyboardInterrupt\u001b[0m                         Traceback (most recent call last)",
      "Cell \u001b[1;32mIn[3], line 17\u001b[0m\n\u001b[0;32m     14\u001b[0m a\u001b[39m.\u001b[39mupdate({(\u001b[39m\"\u001b[39m\u001b[39me\u001b[39m\u001b[39m\"\u001b[39m,s):T \u001b[39mfor\u001b[39;00m s \u001b[39min\u001b[39;00m S})\n\u001b[0;32m     15\u001b[0m t\u001b[39m.\u001b[39mupdate({(\u001b[39m\"\u001b[39m\u001b[39me\u001b[39m\u001b[39m\"\u001b[39m,s):\u001b[39m0\u001b[39m \u001b[39mfor\u001b[39;00m s \u001b[39min\u001b[39;00m S})\n\u001b[1;32m---> 17\u001b[0m obj \u001b[39m=\u001b[39m second_stage_ESPP(S,K,K_s,S_k,T,y,a,t)\n\u001b[0;32m     19\u001b[0m \u001b[39mif\u001b[39;00m obj \u001b[39m==\u001b[39m \u001b[39m0\u001b[39m:\n\u001b[0;32m     20\u001b[0m     optimal \u001b[39m=\u001b[39m \u001b[39mTrue\u001b[39;00m\n",
      "File \u001b[1;32mc:\\Users\\a.rojasa55\\OneDrive - Universidad de los andes\\Documentos\\MOPTA-23\\source.py:215\u001b[0m, in \u001b[0;36msecond_stage_ESPP\u001b[1;34m(S, K, K_s, S_k, T, y, a, t)\u001b[0m\n\u001b[0;32m    212\u001b[0m \u001b[39mwhile\u001b[39;00m \u001b[39mTrue\u001b[39;00m:\n\u001b[0;32m    213\u001b[0m     i \u001b[39m+\u001b[39m\u001b[39m=\u001b[39m \u001b[39m1\u001b[39m\n\u001b[1;32m--> 215\u001b[0m     pi, infeasible, objMP,zz \u001b[39m=\u001b[39m master_problem(S,K,y,routes,S_k,K_s,output\u001b[39m=\u001b[39;49m\u001b[39m0\u001b[39;49m)\n\u001b[0;32m    216\u001b[0m     \u001b[39mprint\u001b[39m(\u001b[39mf\u001b[39m\u001b[39m\"\u001b[39m\u001b[39mIteration \u001b[39m\u001b[39m{\u001b[39;00mi\u001b[39m}\u001b[39;00m\u001b[39m:\u001b[39m\u001b[39m\\n\u001b[39;00m\u001b[39m{\u001b[39;00m\u001b[39mlen\u001b[39m(infeasible)\u001b[39m}\u001b[39;00m\u001b[39m vehicles\u001b[39m\u001b[39m\\t\u001b[39;00m\u001b[39mMP obj: \u001b[39m\u001b[39m{\u001b[39;00m\u001b[39mround\u001b[39m(objMP,\u001b[39m2\u001b[39m)\u001b[39m}\u001b[39;00m\u001b[39m\\t\u001b[39;00m\u001b[39mtime: \u001b[39m\u001b[39m{\u001b[39;00m\u001b[39mround\u001b[39m(process_time()\u001b[39m-\u001b[39mtime0,\u001b[39m2\u001b[39m)\u001b[39m}\u001b[39;00m\u001b[39ms\u001b[39m\u001b[39m\"\u001b[39m)\n\u001b[0;32m    218\u001b[0m     opt \u001b[39m=\u001b[39m {}\n",
      "File \u001b[1;32mc:\\Users\\a.rojasa55\\OneDrive - Universidad de los andes\\Documentos\\MOPTA-23\\source.py:193\u001b[0m, in \u001b[0;36mmaster_problem\u001b[1;34m(S, C, y, routes, S_c, C_s, output, integer)\u001b[0m\n\u001b[0;32m    190\u001b[0m m\u001b[39m.\u001b[39moptimize()\n\u001b[0;32m    192\u001b[0m z \u001b[39m=\u001b[39m {(c,s):\u001b[39msum\u001b[39m(z_r[s][r][c]\u001b[39m*\u001b[39mlbd[s][r]\u001b[39m.\u001b[39mX \u001b[39mfor\u001b[39;00m r \u001b[39min\u001b[39;00m R[s]) \u001b[39mfor\u001b[39;00m s \u001b[39min\u001b[39;00m S \u001b[39mfor\u001b[39;00m c \u001b[39min\u001b[39;00m C_s[s]}\n\u001b[1;32m--> 193\u001b[0m infeasible \u001b[39m=\u001b[39m [c \u001b[39mfor\u001b[39;00m c \u001b[39min\u001b[39;00m C \u001b[39mif\u001b[39;00m \u001b[39msum\u001b[39m(z_r[\u001b[39m0\u001b[39m][r][c]\u001b[39m*\u001b[39mlbd[\u001b[39m0\u001b[39m][r]\u001b[39m.\u001b[39mX \u001b[39mfor\u001b[39;00m r \u001b[39min\u001b[39;00m R[\u001b[39m0\u001b[39m]) \u001b[39m>\u001b[39m \u001b[39m0\u001b[39m]\n\u001b[0;32m    195\u001b[0m pi_0 \u001b[39m=\u001b[39m {}\n\u001b[0;32m    196\u001b[0m \u001b[39mif\u001b[39;00m integer \u001b[39m==\u001b[39m \u001b[39m0\u001b[39m:\n",
      "File \u001b[1;32mc:\\Users\\a.rojasa55\\OneDrive - Universidad de los andes\\Documentos\\MOPTA-23\\source.py:193\u001b[0m, in \u001b[0;36m<listcomp>\u001b[1;34m(.0)\u001b[0m\n\u001b[0;32m    190\u001b[0m m\u001b[39m.\u001b[39moptimize()\n\u001b[0;32m    192\u001b[0m z \u001b[39m=\u001b[39m {(c,s):\u001b[39msum\u001b[39m(z_r[s][r][c]\u001b[39m*\u001b[39mlbd[s][r]\u001b[39m.\u001b[39mX \u001b[39mfor\u001b[39;00m r \u001b[39min\u001b[39;00m R[s]) \u001b[39mfor\u001b[39;00m s \u001b[39min\u001b[39;00m S \u001b[39mfor\u001b[39;00m c \u001b[39min\u001b[39;00m C_s[s]}\n\u001b[1;32m--> 193\u001b[0m infeasible \u001b[39m=\u001b[39m [c \u001b[39mfor\u001b[39;00m c \u001b[39min\u001b[39;00m C \u001b[39mif\u001b[39;00m \u001b[39msum\u001b[39;49m(z_r[\u001b[39m0\u001b[39;49m][r][c]\u001b[39m*\u001b[39;49mlbd[\u001b[39m0\u001b[39;49m][r]\u001b[39m.\u001b[39;49mX \u001b[39mfor\u001b[39;49;00m r \u001b[39min\u001b[39;49;00m R[\u001b[39m0\u001b[39;49m]) \u001b[39m>\u001b[39m \u001b[39m0\u001b[39m]\n\u001b[0;32m    195\u001b[0m pi_0 \u001b[39m=\u001b[39m {}\n\u001b[0;32m    196\u001b[0m \u001b[39mif\u001b[39;00m integer \u001b[39m==\u001b[39m \u001b[39m0\u001b[39m:\n",
      "File \u001b[1;32mc:\\Users\\a.rojasa55\\OneDrive - Universidad de los andes\\Documentos\\MOPTA-23\\source.py:193\u001b[0m, in \u001b[0;36m<genexpr>\u001b[1;34m(.0)\u001b[0m\n\u001b[0;32m    190\u001b[0m m\u001b[39m.\u001b[39moptimize()\n\u001b[0;32m    192\u001b[0m z \u001b[39m=\u001b[39m {(c,s):\u001b[39msum\u001b[39m(z_r[s][r][c]\u001b[39m*\u001b[39mlbd[s][r]\u001b[39m.\u001b[39mX \u001b[39mfor\u001b[39;00m r \u001b[39min\u001b[39;00m R[s]) \u001b[39mfor\u001b[39;00m s \u001b[39min\u001b[39;00m S \u001b[39mfor\u001b[39;00m c \u001b[39min\u001b[39;00m C_s[s]}\n\u001b[1;32m--> 193\u001b[0m infeasible \u001b[39m=\u001b[39m [c \u001b[39mfor\u001b[39;00m c \u001b[39min\u001b[39;00m C \u001b[39mif\u001b[39;00m \u001b[39msum\u001b[39m(z_r[\u001b[39m0\u001b[39m][r][c]\u001b[39m*\u001b[39mlbd[\u001b[39m0\u001b[39m][r]\u001b[39m.\u001b[39mX \u001b[39mfor\u001b[39;00m r \u001b[39min\u001b[39;00m R[\u001b[39m0\u001b[39m]) \u001b[39m>\u001b[39m \u001b[39m0\u001b[39m]\n\u001b[0;32m    195\u001b[0m pi_0 \u001b[39m=\u001b[39m {}\n\u001b[0;32m    196\u001b[0m \u001b[39mif\u001b[39;00m integer \u001b[39m==\u001b[39m \u001b[39m0\u001b[39m:\n",
      "\u001b[1;31mKeyboardInterrupt\u001b[0m: "
     ]
    }
   ],
   "source": [
    "y, model, x = first_stage(global_S,cf)\n",
    "S = list(y.keys())\n",
    "\n",
    "time0 = process_time()\n",
    "optimal = False; ii = 0\n",
    "while not optimal:\n",
    "\n",
    "    print(f\"Iteration {ii}: {process_time()-time0}\")\n",
    "    K, K_s, S_k, a, t = load_pickle(path,0)\n",
    "    S = [s for s in S if K_s[s]!=[]]\n",
    "\n",
    "    S_k = {k:[s for s in S_k[k] if s in S] for k in K}\n",
    "    a.update({(\"s\",s):0 for s in S})\n",
    "    a.update({(\"e\",s):T for s in S})\n",
    "    t.update({(\"e\",s):0 for s in S})\n",
    "\n",
    "    obj = second_stage_ESPP(S,K,K_s,S_k,T,y,a,t)\n",
    "\n",
    "    if obj == 0:\n",
    "        optimal = True\n",
    "    else:\n",
    "        model.addConstr(gb.quicksum(x[n,s] for n in N for s in global_S if x[n,s].X < 0.5) >= 1)\n",
    "        model.update()\n",
    "        model.optimize()\n",
    "\n",
    "        y = {s:sum(n*x[n,s].X for n in N) for s in S if sum(x[n,s].X for n in N) == 1}\n",
    "        S = list(y.keys())\n",
    "        ii += 1\n"
   ]
  },
  {
   "cell_type": "code",
   "execution_count": null,
   "metadata": {},
   "outputs": [],
   "source": []
  }
 ],
 "metadata": {
  "kernelspec": {
   "display_name": "MOPTAEnv",
   "language": "python",
   "name": "python3"
  },
  "language_info": {
   "codemirror_mode": {
    "name": "ipython",
    "version": 3
   },
   "file_extension": ".py",
   "mimetype": "text/x-python",
   "name": "python",
   "nbconvert_exporter": "python",
   "pygments_lexer": "ipython3",
   "version": "3.10.10"
  },
  "orig_nbformat": 4
 },
 "nbformat": 4,
 "nbformat_minor": 2
}
