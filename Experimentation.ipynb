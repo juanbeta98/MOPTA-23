{
 "cells": [
  {
   "cell_type": "code",
   "execution_count": 2,
   "metadata": {},
   "outputs": [
    {
     "name": "stderr",
     "output_type": "stream",
     "text": [
      "/Users/juanbeta/My Drive/Research/MOPTA/MOPTA-23/source.py:23: SettingWithCopyWarning: \n",
      "A value is trying to be set on a copy of a slice from a DataFrame.\n",
      "Try using .loc[row_indexer,col_indexer] = value instead\n",
      "\n",
      "See the caveats in the documentation: https://pandas.pydata.org/pandas-docs/stable/user_guide/indexing.html#returning-a-view-versus-a-copy\n",
      "  stations = stations_loc[(stations_loc[\"Longitude\"] <= 290) & (stations_loc[\"Latitude\"] <= 150)]\n",
      "/Users/juanbeta/My Drive/Research/MOPTA/MOPTA-23/source.py:24: SettingWithCopyWarning: \n",
      "A value is trying to be set on a copy of a slice from a DataFrame.\n",
      "Try using .loc[row_indexer,col_indexer] = value instead\n",
      "\n",
      "See the caveats in the documentation: https://pandas.pydata.org/pandas-docs/stable/user_guide/indexing.html#returning-a-view-versus-a-copy\n",
      "  stations.rename(columns={\"Longitude\": 0, \"Latitude\":1}, inplace=True)\n",
      "/Users/juanbeta/My Drive/Research/MOPTA/MOPTA-23/source.py:27: SettingWithCopyWarning: \n",
      "A value is trying to be set on a copy of a slice from a DataFrame\n",
      "\n",
      "See the caveats in the documentation: https://pandas.pydata.org/pandas-docs/stable/user_guide/indexing.html#returning-a-view-versus-a-copy\n",
      "  \n"
     ]
    }
   ],
   "source": [
    "import matplotlib.pyplot as plt\n",
    "import pandas as pd\n",
    "import numpy as np\n",
    "import pickle\n",
    "import gurobipy as gb\n",
    "\n",
    "from time import process_time\n",
    "from source import *\n",
    "\n",
    "file = open(path + f'S', 'rb')\n",
    "global_S = pickle.load(file); cf = 5500; N = range(1,9); T = 2.5\n",
    "file.close()"
   ]
  },
  {
   "cell_type": "code",
   "execution_count": 3,
   "metadata": {},
   "outputs": [
    {
     "name": "stdout",
     "output_type": "stream",
     "text": [
      "Set parameter Username\n",
      "Academic license - for non-commercial use only - expires 2024-02-11\n",
      "Iteration 0: 0.00037700000000029377\n",
      "-----Second Stage iteration 0\n"
     ]
    }
   ],
   "source": [
    "y, model, x = first_stage(global_S,cf)\n",
    "S = list(y.keys())\n",
    "\n",
    "time0 = process_time()\n",
    "optimal = False; ii = 0\n",
    "while not optimal:\n",
    "\n",
    "    print(f\"Iteration {ii}: {process_time()-time0}\")\n",
    "    K, K_s, S_k, a, t = load_pickle(path,0)\n",
    "    S = [s for s in S if K_s[s]!=[]]\n",
    "\n",
    "    S_k = {k:[s for s in S_k[k] if s in S] for k in K}\n",
    "    a.update({(\"s\",s):0 for s in S})\n",
    "    a.update({(\"e\",s):T for s in S})\n",
    "    t.update({(\"e\",s):0 for s in S})\n",
    "\n",
    "    obj = second_stage_ESPP(S,K,K_s,S_k,T,y,a,t)\n",
    "\n",
    "    if obj == 0:\n",
    "        optimal = True\n",
    "    else:\n",
    "        model.addConstr(gb.quicksum(x[n,s] for n in N for s in global_S if x[n,s].X < 0.5) >= 1)\n",
    "        model.update()\n",
    "        model.optimize()\n",
    "\n",
    "        y = {s:sum(n*x[n,s].X for n in N) for s in S if sum(x[n,s].X for n in N) == 1}\n",
    "        S = list(y.keys())\n",
    "        ii += 1\n"
   ]
  },
  {
   "cell_type": "code",
   "execution_count": null,
   "metadata": {},
   "outputs": [],
   "source": []
  }
 ],
 "metadata": {
  "kernelspec": {
   "display_name": "MOPTAEnv",
   "language": "python",
   "name": "python3"
  },
  "language_info": {
   "codemirror_mode": {
    "name": "ipython",
    "version": 3
   },
   "file_extension": ".py",
   "mimetype": "text/x-python",
   "name": "python",
   "nbconvert_exporter": "python",
   "pygments_lexer": "ipython3",
   "version": "3.10.10"
  },
  "orig_nbformat": 4
 },
 "nbformat": 4,
 "nbformat_minor": 2
}
