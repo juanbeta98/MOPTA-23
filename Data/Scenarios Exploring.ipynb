{
 "cells": [
  {
   "cell_type": "code",
   "execution_count": 1,
   "metadata": {},
   "outputs": [],
   "source": [
    "import ipywidgets as widgets\n",
    "import pandas as pd\n",
    "import matplotlib.pyplot as plt\n",
    "from pickle import load\n",
    "from IPython.display import display, clear_output\n",
    "import warnings\n",
    "\n",
    "warnings.filterwarnings(\"ignore\")\n",
    "\n",
    "#path = \"C:/Users/a.rojasa55/OneDrive - Universidad de los Andes/Documentos/MOPTA-23/Data/\"\n",
    "path = \"C:/Users/ari_r/OneDrive - Universidad de los Andes/Documentos/MOPTA-23/Data/\"\n",
    "cd = 0.041\n",
    "cw = 0.0388"
   ]
  },
  {
   "cell_type": "code",
   "execution_count": 2,
   "metadata": {},
   "outputs": [],
   "source": [
    "stations = pd.read_csv(path+\"Definite Stations.csv\",index_col=[0])\n",
    "vehicles = pd.read_csv(path+\"Definite Vehicles.csv\",index_col=[0])\n",
    "locations = pd.read_csv(path+\"Definite Locations.csv\",index_col=[0])"
   ]
  },
  {
   "cell_type": "code",
   "execution_count": 3,
   "metadata": {},
   "outputs": [],
   "source": [
    "K = {}; K_s = {}\n",
    "for sc in range(25):\n",
    "    file = open(path+f\"K/K_sc{sc}\",\"rb\")\n",
    "    K[sc] = load(file); file.close()\n",
    "\n",
    "    file = open(path+f\"K_s10/Ks_sc{sc}\",\"rb\")\n",
    "    K_s[sc] = load(file); file.close()\n",
    "\n",
    "max_stress = max([len(K_s[sc][s]) for sc in range(sc) for s in stations.index]); min_stress = 0"
   ]
  },
  {
   "cell_type": "code",
   "execution_count": 5,
   "metadata": {},
   "outputs": [],
   "source": [
    "def plot_scenario(sc=0,show_vehic=True,show_size=True,show_stat=True,show_stressed=True):\n",
    "        img = plt.imread(\"C:/Users/ari_r/OneDrive - Universidad de los Andes/Documentos/MOPTA-23/Problem Visualization/Population grey.PNG\")\n",
    "        \n",
    "        fig, ax = plt.subplots(nrows=1,ncols=1,figsize=(18,12))\n",
    "\n",
    "        if show_vehic:\n",
    "                locs = [l for l in locations.index if locations.loc[l,f\"going {sc}\"]>0]\n",
    "                if show_size: szs = [15+12*locations.loc[l,f\"going {sc}\"] for l in locs]\n",
    "                else: szs = [20 for l in locs]\n",
    "                ax.scatter(locations[\"0\"][locs],locations[\"1\"][locs],s=szs,color=\"navy\",alpha=0.5)\n",
    "        \n",
    "        if show_stat:\n",
    "            stats = [s for s in stations.index if len(K_s[sc][s])>0]\n",
    "            if show_stressed:\n",
    "                cm = plt.get_cmap(\"gist_heat\")\n",
    "                for i in range(401):\n",
    "                    ax.bar(x=-25,height=0.1875,width=5,bottom=37.5+0.1875*i,color=cm((1-i/400)*0.9))\n",
    "                for i in range(6):\n",
    "                    ax.text(x=-20,y=37.5+75*i/5,s=int((max_stress-min_stress)*i/5),va=\"center\",ha=\"left\",fontsize=14)\n",
    "                ax.text(x=-30,y=75,rotation=90,s=\"stations stress index\", fontsize = 14, va=\"center\",ha=\"center\")\n",
    "                cols = [cm((1-len(K_s[sc][s])/max_stress)*0.9) for s in stats]\n",
    "            else:\n",
    "                cols = [\"darkorange\" for s in stats]\n",
    "            ax.scatter(stations[\"0\"][stats],stations[\"1\"][stats],c=cols)\n",
    "\n",
    "        ax.vlines(x=[0,290],ymin=0,ymax=150,color=\"black\")\n",
    "        ax.hlines(y=[0,150],xmin=0,xmax=290,color=\"black\")\n",
    "\n",
    "        ax.spines[[\"top\",\"bottom\",\"left\",\"right\"]].set_visible(False)\n",
    "\n",
    "        zero = (-5,-12)\n",
    "        height = 184.425\n",
    "        ax.imshow(img, extent=[zero[0], zero[0]+height*5/3, zero[1], zero[1]+height])\n",
    "        \n",
    "        ax.set_xlim(-40,320)\n",
    "        ax.set_ylim(-20,170)\n",
    "        ax.set_xticks([]); ax.set_yticks([])\n",
    "        ax.set_title(f\"\\nScenario {sc}\\nNumber of vehicles: {len(K[sc])}\",fontsize=18)"
   ]
  },
  {
   "cell_type": "code",
   "execution_count": 6,
   "metadata": {},
   "outputs": [],
   "source": [
    "a = widgets.IntSlider(min=0,max=24,value=0,description='Scenario:',disabled=False,continuous_update=False,readout=True)\n",
    "b = widgets.Checkbox(value=False,description=\"Vehicles\",fontsize=18); c = widgets.Checkbox(value=False,description=\"Number of vehicles\")\n",
    "d = widgets.Checkbox(value=False,description=\"Stations\"); e = widgets.Checkbox(value=False,description=\"Stations stress index\")\n",
    "ui = widgets.HBox([a, b, c, d, e])\n",
    "def f(a, b, c, d, e):\n",
    "    plot_scenario(sc=a,show_vehic=b,show_size=c,show_stat=d,show_stressed=e)\n",
    "\n",
    "out = widgets.interactive_output(f, {\"a\": a, \"b\": b, \"c\": c, \"d\": d, \"e\": e})"
   ]
  },
  {
   "cell_type": "code",
   "execution_count": 7,
   "metadata": {},
   "outputs": [
    {
     "data": {
      "application/vnd.jupyter.widget-view+json": {
       "model_id": "381d41591f414d17a7497dbfa43077e8",
       "version_major": 2,
       "version_minor": 0
      },
      "text/plain": [
       "HBox(children=(IntSlider(value=0, continuous_update=False, description='Scenario:', max=24), Checkbox(value=Fa…"
      ]
     },
     "metadata": {},
     "output_type": "display_data"
    },
    {
     "data": {
      "application/vnd.jupyter.widget-view+json": {
       "model_id": "5f6828826e5744078438920c0a51d38d",
       "version_major": 2,
       "version_minor": 0
      },
      "text/plain": [
       "Output(outputs=({'output_type': 'display_data', 'data': {'text/plain': '<Figure size 1800x1200 with 1 Axes>', …"
      ]
     },
     "metadata": {},
     "output_type": "display_data"
    }
   ],
   "source": [
    "\n",
    "display(ui, out)"
   ]
  }
 ],
 "metadata": {
  "kernelspec": {
   "display_name": "vscode",
   "language": "python",
   "name": "python3"
  },
  "language_info": {
   "codemirror_mode": {
    "name": "ipython",
    "version": 3
   },
   "file_extension": ".py",
   "mimetype": "text/x-python",
   "name": "python",
   "nbconvert_exporter": "python",
   "pygments_lexer": "ipython3",
   "version": "3.10.8"
  },
  "orig_nbformat": 4
 },
 "nbformat": 4,
 "nbformat_minor": 2
}
